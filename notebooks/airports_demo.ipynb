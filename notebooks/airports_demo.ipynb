{
 "cells": [
  {
   "cell_type": "code",
   "execution_count": 6,
   "metadata": {},
   "outputs": [],
   "source": [
    "from gquery.engine import GQueryEngine\n",
    "engine = GQueryEngine()"
   ]
  },
  {
   "cell_type": "code",
   "execution_count": 7,
   "metadata": {},
   "outputs": [
    {
     "name": "stdout",
     "output_type": "stream",
     "text": [
      "JFK (John F Kennedy Intl)\n",
      "- Coordinates: 40° 38' N, 73° 47' W\n",
      "- Country: United States\n",
      "- Annual seats (intl.): 24,715,743\n",
      "\n",
      "PVG (Pudong International)\n",
      "- Coordinates: 31° 9' N, 121° 47' E\n",
      "- Country: China\n",
      "- Annual seats (intl.): 24,133,917\n",
      "\n"
     ]
    }
   ],
   "source": [
    "jfk = engine.find_airport(\"jfk\")\n",
    "pvg = engine.find_airport(\"PVG\")\n",
    "\n",
    "print(jfk)\n",
    "print(pvg)"
   ]
  },
  {
   "cell_type": "code",
   "execution_count": null,
   "metadata": {},
   "outputs": [],
   "source": []
  }
 ],
 "metadata": {
  "kernelspec": {
   "display_name": ".venv",
   "language": "python",
   "name": "python3"
  },
  "language_info": {
   "codemirror_mode": {
    "name": "ipython",
    "version": 3
   },
   "file_extension": ".py",
   "mimetype": "text/x-python",
   "name": "python",
   "nbconvert_exporter": "python",
   "pygments_lexer": "ipython3",
   "version": "3.12.0"
  }
 },
 "nbformat": 4,
 "nbformat_minor": 2
}
