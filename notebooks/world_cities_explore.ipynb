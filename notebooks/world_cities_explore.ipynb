{
 "cells": [
  {
   "cell_type": "code",
   "execution_count": null,
   "metadata": {},
   "outputs": [],
   "source": [
    "import pandas as pd"
   ]
  },
  {
   "cell_type": "code",
   "execution_count": null,
   "metadata": {},
   "outputs": [],
   "source": [
    "df = pd.read_csv(\"../src/gquery/data/worldcities.csv\", header=0)\n",
    "df.head()"
   ]
  },
  {
   "cell_type": "code",
   "execution_count": null,
   "metadata": {},
   "outputs": [],
   "source": [
    "# Print entry by index.\n",
    "print(df[df.index == 1].iloc[0].to_dict())"
   ]
  },
  {
   "cell_type": "code",
   "execution_count": null,
   "metadata": {},
   "outputs": [],
   "source": [
    "# List cities with population over 5 million.\n",
    "df[df[\"population\"] > 5000000][[\"city\", \"population\"]]"
   ]
  },
  {
   "cell_type": "code",
   "execution_count": null,
   "metadata": {},
   "outputs": [],
   "source": [
    "# List cities with population over 3 million with latitude above 45.\n",
    "df[(df[\"population\"] > 3000000) & (df[\"lat\"] > 45.0)][\n",
    "    [\"city\", \"country\", \"lat\", \"population\"]\n",
    "]"
   ]
  },
  {
   "cell_type": "code",
   "execution_count": null,
   "metadata": {},
   "outputs": [],
   "source": [
    "# Name matches multiple cities\n",
    "matched_rows = df[df[\"city\"] == \"San Jose\"]\n",
    "\n",
    "print(\"Total match:\", len(matched_rows.index))\n",
    "\n",
    "for index, row in matched_rows.iterrows():\n",
    "    print(f\"{row['city']} ({row['country']}, {row['admin_name']})\")"
   ]
  }
 ],
 "metadata": {
  "kernelspec": {
   "display_name": "Python 3.8.10 ('venv': venv)",
   "language": "python",
   "name": "python3"
  },
  "language_info": {
   "codemirror_mode": {
    "name": "ipython",
    "version": 3
   },
   "file_extension": ".py",
   "mimetype": "text/x-python",
   "name": "python",
   "nbconvert_exporter": "python",
   "pygments_lexer": "ipython3",
   "version": "3.10.12"
  },
  "orig_nbformat": 4,
  "vscode": {
   "interpreter": {
    "hash": "6436b4736fa2832b0cca94c717c12eb4845a4ef885c625a454a1326f83367f89"
   }
  }
 },
 "nbformat": 4,
 "nbformat_minor": 2
}
